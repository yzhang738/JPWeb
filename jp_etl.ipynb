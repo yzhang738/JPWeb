{
 "cells": [
  {
   "attachments": {},
   "cell_type": "markdown",
   "metadata": {},
   "source": [
    "### This project uses Python pyspark, pandas and numpy packages as well as linux shell scripts to extract, transform and load data to IBM Cloud."
   ]
  },
  {
   "cell_type": "code",
   "execution_count": null,
   "metadata": {},
   "outputs": [],
   "source": [
    "import numpy as np\n",
    "import pandas as pd\n",
    "import scipy.io as sio\n",
    "import os"
   ]
  },
  {
   "cell_type": "code",
   "execution_count": null,
   "metadata": {},
   "outputs": [],
   "source": [
    "!wget http://csegroups.case.edu/sites/default/files/bearingdatacenter/files/Datafiles/97.mat\n",
    "!wget http://csegroups.case.edu/sites/default/files/bearingdatacenter/files/Datafiles/98.mat\n",
    "!wget http://csegroups.case.edu/sites/default/files/bearingdatacenter/files/Datafiles/99.mat\n",
    "!wget http://csegroups.case.edu/sites/default/files/bearingdatacenter/files/Datafiles/100.mat"
   ]
  },
  {
   "cell_type": "code",
   "execution_count": null,
   "metadata": {},
   "outputs": [],
   "source": [
    "!mkdir  good_data\n",
    "!mv *.mat good_data"
   ]
  },
  {
   "cell_type": "code",
   "execution_count": null,
   "metadata": {},
   "outputs": [],
   "source": [
    "def read_folder(folder):\n",
    "    data = 'dummy'\n",
    "    skip = False\n",
    "    for file in os.listdir(folder):\n",
    "        file_id = file[:-4]\n",
    "        mat_file_dict = sio.loadmat(folder+file)\n",
    "        del data\n",
    "        for key, value in mat_file_dict.items():\n",
    "            if 'DE_time' in key or 'FE_time' in key:\n",
    "                a = np.array(mat_file_dict[key])\n",
    "                try:\n",
    "                    data\n",
    "                except NameError:\n",
    "                    data = a\n",
    "                else:\n",
    "                    if (data.shape[0] != a.shape[0]):\n",
    "                        print('skipping ' + file_id)\n",
    "                        skip = True\n",
    "                        continue\n",
    "                    data = np.hstack((data,a))\n",
    "        if skip:\n",
    "            skip=False\n",
    "            continue\n",
    "        id = np.repeat(file_id,data.shape[0])\n",
    "        id.shape = (id.shape[0],1)\n",
    "        data = np.hstack((id,data))\n",
    "        if data.shape[1] == 2:\n",
    "            zeros = np.repeat(float(0),data.shape[0])\n",
    "            zeros.shape =(data.shape[0],1)\n",
    "            data = np.hstack((data,zeros))\n",
    "        try:\n",
    "            result\n",
    "        except NameError:\n",
    "            result = data\n",
    "        else:\n",
    "            result = np.vstack((result,data))\n",
    "    return result"
   ]
  },
  {
   "cell_type": "code",
   "execution_count": null,
   "metadata": {},
   "outputs": [],
   "source": [
    "good_result = read_folder('./good_data')"
   ]
  },
  {
   "cell_type": "code",
   "execution_count": null,
   "metadata": {},
   "outputs": [],
   "source": [
    "pdf = pd.DataFrame(good_result)\n",
    "pdf.to_csv('good_result.csv', header=False, index=True)"
   ]
  },
  {
   "cell_type": "code",
   "execution_count": null,
   "metadata": {},
   "outputs": [],
   "source": [
    "!wget http://csegroups.case.edu/sites/default/files/bearingdatacenter/files/Datafiles/105.mat\n",
    "!wget http://csegroups.case.edu/sites/default/files/bearingdatacenter/files/Datafiles/106.mat\n",
    "!wget http://csegroups.case.edu/sites/default/files/bearingdatacenter/files/Datafiles/107.mat\n",
    "!wget http://csegroups.case.edu/sites/default/files/bearingdatacenter/files/Datafiles/108.mat"
   ]
  },
  {
   "cell_type": "code",
   "execution_count": null,
   "metadata": {},
   "outputs": [],
   "source": [
    "# get all faulty data files\n",
    "!for url in `curl -s csegroups.case.edu/bearingdatacenter/pages/12k-drive-end-bearing-fault-data |grep mat |grep http |awk -F'href=\"' '{print $2}' |awk -F'\">' '{print $1}'`; do wget $url; done\n",
    "#!for url in `curl -s csegroups.case.edu/bearingdatacenter/pages/48k-drive-end-bearing-fault-data |grep mat |grep http |awk -F'href=\"' '{print $2}' |awk -F'\">' '{print $1}'`; do wget $url; done\n",
    "#!for url in `curl -s csegroups.case.edu/bearingdatacenter/pages/12k-fan-end-bearing-fault-data |grep mat |grep http |awk -F'href=\"' '{print $2}' |awk -F'\">' '{print $1}'`; do wget $url; done\n"
   ]
  },
  {
   "cell_type": "code",
   "execution_count": null,
   "metadata": {},
   "outputs": [],
   "source": [
    "!mkdir faulty_data\n",
    "!mv *.mat faulty_data/"
   ]
  },
  {
   "cell_type": "code",
   "execution_count": null,
   "metadata": {},
   "outputs": [],
   "source": [
    "faulty_result = read_folder('./faulty_data')"
   ]
  },
  {
   "cell_type": "code",
   "execution_count": null,
   "metadata": {},
   "outputs": [],
   "source": [
    "pdf = pd.DataFrame(faulty_result)\n",
    "pdf.to_csv('faulty_result.csv', header=False, index=True)"
   ]
  },
  {
   "cell_type": "code",
   "execution_count": null,
   "metadata": {},
   "outputs": [],
   "source": [
    "# set values for \"credentias\", \"bucket_name\" and \"endpoint\" for data to be uploaded to the cloud\n",
    "credentials = {\n",
    "}\n",
    "bucket_name = \"\"\n",
    "endpoint = \"\""
   ]
  },
  {
   "cell_type": "code",
   "execution_count": null,
   "metadata": {},
   "outputs": [],
   "source": [
    "import base64\n",
    "from botocore.client import Config\n",
    "from boto3 import ibm_boto3\n",
    "import time\n",
    "\n",
    "# Create client \n",
    "client = ibm_boto3.client(\n",
    "    's3',\n",
    "    aws_access_key_id = credentials[\"cos_hmac_keys\"]['access_key_id'],\n",
    "    aws_secret_access_key = credentials[\"cos_hmac_keys\"][\"secret_access_key\"],\n",
    "    endpoint_url=endpoint\n",
    ")\n",
    "\n",
    "client.upload_file('good_result.csv', bucket_name, 'good_result.csv')\n",
    "client.upload_file('faulty_result.csv', bucket_name, 'faulty_result.csv')"
   ]
  }
 ],
 "metadata": {
  "kernelspec": {
   "display_name": "Python 3",
   "language": "python",
   "name": "python3"
  },
  "language_info": {
   "codemirror_mode": {
    "name": "ipython",
    "version": 3
   },
   "file_extension": ".py",
   "mimetype": "text/x-python",
   "name": "python",
   "nbconvert_exporter": "python",
   "pygments_lexer": "ipython3",
   "version": "3.10.9"
  },
  "orig_nbformat": 4,
  "vscode": {
   "interpreter": {
    "hash": "3200cc2825679299acbc482d7e6aa73e3fd1a97ab8a972209aa62dca63dbe754"
   }
  }
 },
 "nbformat": 4,
 "nbformat_minor": 2
}
